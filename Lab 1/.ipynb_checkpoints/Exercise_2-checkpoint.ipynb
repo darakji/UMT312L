{
 "cells": [
  {
   "cell_type": "code",
   "execution_count": 2,
   "id": "8b9f73af-1638-441b-b443-b7e824582f5e",
   "metadata": {},
   "outputs": [
    {
     "name": "stdout",
     "output_type": "stream",
     "text": [
      "Maximum Stress: 500.0000 MPa with uncertainty 12.2486 MPa\n",
      "Maximum Strain: 0.000600 with uncertainty 0.000017\n"
     ]
    }
   ],
   "source": [
    "import numpy as np\n",
    "\n",
    "# Given values\n",
    "F = 100  # Load in N\n",
    "L = 100  # Length in mm\n",
    "b = 30   # Width in mm\n",
    "h = 1    # Height in mm\n",
    "\n",
    "# Uncertainties\n",
    "SF = 1   # Load cell uncertainty in N\n",
    "SL = 1   # Ruler uncertainty in mm\n",
    "Sb = 0.01  # Vernier caliper uncertainty for b in mm\n",
    "Sh = 0.01  # Vernier caliper uncertainty for h in mm\n",
    "Sdelta = 0.005  # LVDT uncertainty in mm\n",
    "\n",
    "# Stress formula: sigma_f = (3 * F * L) / (2 * b * h^2)\n",
    "sigma_f_max = (3 * F * L) / (2 * b * h**2)\n",
    "\n",
    "# Strain formula: epsilon_f = (6 * delta * h) / (L^2)\n",
    "# Assuming delta = h (for max strain, typical assumption for simple beam bending)\n",
    "delta = h  # Maximum deflection assumed equal to h for simplicity\n",
    "epsilon_f_max = (6 * delta * h) / (L**2)\n",
    "\n",
    "# Propagation of uncertainty for sigma_f\n",
    "S_sigma_f = sigma_f_max * np.sqrt(\n",
    "    (SF / F)**2 +\n",
    "    (SL / L)**2 +\n",
    "    (Sb / b)**2 +\n",
    "    (2 * Sh / h)**2  # h is squared, so its uncertainty is doubled\n",
    ")\n",
    "\n",
    "# Propagation of uncertainty for epsilon_f\n",
    "S_epsilon_f = epsilon_f_max * np.sqrt(\n",
    "    (Sdelta / delta)**2 +\n",
    "    (2 * Sh / h)**2 +\n",
    "    (2 * SL / L)**2  # L is squared in the denominator\n",
    ")\n",
    "\n",
    "print(f\"Maximum Stress: {sigma_f_max:.4f} MPa with uncertainty {S_sigma_f:.4f} MPa\")\n",
    "print(f\"Maximum Strain: {epsilon_f_max:.6f} with uncertainty {S_epsilon_f:.6f}\")\n"
   ]
  },
  {
   "cell_type": "code",
   "execution_count": 3,
   "id": "27cdc967-e40c-44e1-a9b2-434f48ec13c6",
   "metadata": {},
   "outputs": [
    {
     "name": "stdout",
     "output_type": "stream",
     "text": [
      "Young's Modulus: 833333.3333 MPa with uncertainty 31458.8699 MPa\n"
     ]
    }
   ],
   "source": [
    "# Young's modulus calculation\n",
    "E = sigma_f_max / epsilon_f_max\n",
    "\n",
    "# Uncertainty in Young's modulus\n",
    "S_E = E * np.sqrt((S_sigma_f / sigma_f_max)**2 + (S_epsilon_f / epsilon_f_max)**2)\n",
    "\n",
    "# Display the result\n",
    "print(f\"Young's Modulus: {E:.4f} MPa with uncertainty {S_E:.4f} MPa\")"
   ]
  }
 ],
 "metadata": {
  "kernelspec": {
   "display_name": "Python 3 (ipykernel)",
   "language": "python",
   "name": "python3"
  },
  "language_info": {
   "codemirror_mode": {
    "name": "ipython",
    "version": 3
   },
   "file_extension": ".py",
   "mimetype": "text/x-python",
   "name": "python",
   "nbconvert_exporter": "python",
   "pygments_lexer": "ipython3",
   "version": "3.11.9"
  }
 },
 "nbformat": 4,
 "nbformat_minor": 5
}
